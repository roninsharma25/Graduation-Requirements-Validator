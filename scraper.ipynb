{
 "cells": [
  {
   "cell_type": "code",
   "execution_count": 9,
   "metadata": {},
   "outputs": [],
   "source": [
    "import numpy as np\n",
    "import pandas as pd\n",
    "import json\n",
    "import requests\n",
    "import lxml.html as lh\n",
    "\n",
    "from urllib.request import urlopen"
   ]
  },
  {
   "cell_type": "code",
   "execution_count": 5,
   "metadata": {},
   "outputs": [],
   "source": [
    "semester = 'SP22'\n",
    "baseURL = f'https://classes.cornell.edu/api/2.0/search/classes.json?roster={semester}&subject=ECE'\n",
    "\n",
    "response = urlopen(baseURL)\n",
    "classData = json.loads(response.read())['data']['classes']\n",
    "\n",
    "for class_ in classData:\n",
    "    print(class_)"
   ]
  },
  {
   "cell_type": "code",
   "execution_count": 69,
   "metadata": {},
   "outputs": [],
   "source": [
    "categories = ['CA', 'HA', 'KCM', 'LA', 'SBA', 'CE', 'ALC', 'SCD', 'HST', 'ETM', 'SSC', 'GLC']\n",
    "completeData = []\n",
    "\n",
    "for category in categories:\n",
    "\n",
    "    LSURL = f'https://apps.engineering.cornell.edu/liberalstudies/{category}.cfm'\n",
    "    response = requests.get(LSURL)\n",
    "    data = lh.fromstring(response.content)\n",
    "    tableData = data.xpath('//tr')\n",
    "\n",
    "    headers = ['Category', 'Department + Course Number', 'Distributions']\n",
    "\n",
    "    for row in tableData[1:]:\n",
    "\n",
    "        rowElements = list(row.iterchildren())\n",
    "\n",
    "        distributions = rowElements[3].text_content().split(', ')\n",
    "        distributionsFormatted = []\n",
    "\n",
    "        for distribution in distributions:\n",
    "            newStr = distribution.replace('(', '').replace(')', '')\n",
    "            distributionsFormatted.append(newStr)\n",
    "\n",
    "\n",
    "        completeData.append([ category, f'{rowElements[0].text_content()} {rowElements[1].text_content()}', distributionsFormatted])"
   ]
  },
  {
   "cell_type": "code",
   "execution_count": 72,
   "metadata": {},
   "outputs": [
    {
     "data": {
      "text/html": [
       "<div>\n",
       "<style scoped>\n",
       "    .dataframe tbody tr th:only-of-type {\n",
       "        vertical-align: middle;\n",
       "    }\n",
       "\n",
       "    .dataframe tbody tr th {\n",
       "        vertical-align: top;\n",
       "    }\n",
       "\n",
       "    .dataframe thead th {\n",
       "        text-align: right;\n",
       "    }\n",
       "</style>\n",
       "<table border=\"1\" class=\"dataframe\">\n",
       "  <thead>\n",
       "    <tr style=\"text-align: right;\">\n",
       "      <th></th>\n",
       "      <th>Category</th>\n",
       "      <th>Department + Course Number</th>\n",
       "      <th>Distributions</th>\n",
       "    </tr>\n",
       "  </thead>\n",
       "  <tbody>\n",
       "    <tr>\n",
       "      <th>7355</th>\n",
       "      <td>GLC</td>\n",
       "      <td>STS 4634</td>\n",
       "      <td>[GLC-AS, HST-AS]</td>\n",
       "    </tr>\n",
       "    <tr>\n",
       "      <th>7356</th>\n",
       "      <td>GLC</td>\n",
       "      <td>STS 4691</td>\n",
       "      <td>[PBS-AS, BIO-AS, GLC-AS]</td>\n",
       "    </tr>\n",
       "    <tr>\n",
       "      <th>7357</th>\n",
       "      <td>GLC</td>\n",
       "      <td>STS 4721</td>\n",
       "      <td>[CA-AS, GLC-AS, SSC-AS]</td>\n",
       "    </tr>\n",
       "    <tr>\n",
       "      <th>7358</th>\n",
       "      <td>GLC</td>\n",
       "      <td>VISST 3227</td>\n",
       "      <td>[LA-AS, GLC-AS]</td>\n",
       "    </tr>\n",
       "    <tr>\n",
       "      <th>7359</th>\n",
       "      <td>GLC</td>\n",
       "      <td>VISST 3581</td>\n",
       "      <td>[CA-AS, ALC-AS, GLC-AS]</td>\n",
       "    </tr>\n",
       "  </tbody>\n",
       "</table>\n",
       "</div>"
      ],
      "text/plain": [
       "     Category Department + Course Number             Distributions\n",
       "7355      GLC                   STS 4634          [GLC-AS, HST-AS]\n",
       "7356      GLC                   STS 4691  [PBS-AS, BIO-AS, GLC-AS]\n",
       "7357      GLC                   STS 4721   [CA-AS, GLC-AS, SSC-AS]\n",
       "7358      GLC                 VISST 3227           [LA-AS, GLC-AS]\n",
       "7359      GLC                 VISST 3581   [CA-AS, ALC-AS, GLC-AS]"
      ]
     },
     "execution_count": 72,
     "metadata": {},
     "output_type": "execute_result"
    }
   ],
   "source": [
    "df = pd.DataFrame(completeData)\n",
    "df.columns = headers\n",
    "df.tail()"
   ]
  },
  {
   "cell_type": "code",
   "execution_count": 73,
   "metadata": {},
   "outputs": [],
   "source": [
    "df.to_csv('liberal_studies.csv', index = None)"
   ]
  },
  {
   "cell_type": "code",
   "execution_count": null,
   "metadata": {},
   "outputs": [],
   "source": []
  }
 ],
 "metadata": {
  "interpreter": {
   "hash": "45f4644797416aea498db582aa4b99d00f72a6bde446b8e5072d1bb1a6235966"
  },
  "kernelspec": {
   "display_name": "Python 3.8.3 ('base')",
   "language": "python",
   "name": "python3"
  },
  "language_info": {
   "codemirror_mode": {
    "name": "ipython",
    "version": 3
   },
   "file_extension": ".py",
   "mimetype": "text/x-python",
   "name": "python",
   "nbconvert_exporter": "python",
   "pygments_lexer": "ipython3",
   "version": "3.8.3"
  },
  "orig_nbformat": 4
 },
 "nbformat": 4,
 "nbformat_minor": 2
}
